{
 "cells": [
  {
   "cell_type": "code",
   "execution_count": 2,
   "metadata": {},
   "outputs": [],
   "source": [
    "# Dependencies\n",
    "\n",
    "# Web scraping dependencies\n",
    "from bs4 import BeautifulSoup\n",
    "\n",
    "# Asynchronous scraping dependencies\n",
    "import time\n",
    "from selenium import webdriver\n",
    "from splinter import Browser\n",
    "from splinter.exceptions import ElementDoesNotExist"
   ]
  },
  {
   "cell_type": "code",
   "execution_count": null,
   "metadata": {},
   "outputs": [],
   "source": [
    "# Create soup object\n",
    "url = 'https://mars.nasa.gov/news/?page=0&per_page=40&order=publish_date+desc%2Ccreated_at+desc&search=&category=19%2C165%2C184%2C204&blank_scope=Latest'\n",
    "# Chromedriver set-up\n",
    "executable_path = {'executable_path': 'chromedriver.exe'}\n",
    "browser = webdriver.Chrome(**executable_path)\n",
    "browser.get(url)\n",
    "\n",
    "# 2 second time delay is so that the page can load and all information can be scraped\n",
    "time.sleep(2)\n",
    "\n",
    "# Scrape the html on the site after the timer is done\n",
    "html = browser.page_source\n",
    "soup = BeautifulSoup(html, 'html.parser')\n",
    "\n",
    "# find the first div class that contains news information \n",
    "# (this will be the latest news for the website)\n",
    "latest_news_class = soup.find(\"div\", class_ = \"list_text\")\n",
    "\n",
    "# close the browser\n",
    "browser.close()"
   ]
  },
  {
   "cell_type": "code",
   "execution_count": null,
   "metadata": {},
   "outputs": [],
   "source": [
    "# Loop through returned results\n",
    "result_list = []\n",
    "for result in latest_news_class:\n",
    "    # Error handling\n",
    "    try:\n",
    "        # Identify and return title of listing\n",
    "        text_result = result.text\n",
    "        \n",
    "        # append to the result list if the attribute exists\n",
    "        if (text_result):\n",
    "            result_list.append(text_result)\n",
    "    except AttributeError as e:\n",
    "        print(e)\n",
    "\n",
    "result_list"
   ]
  },
  {
   "cell_type": "code",
   "execution_count": null,
   "metadata": {},
   "outputs": [],
   "source": [
    "url2 = \"https://www.jpl.nasa.gov/spaceimages/?search=&category=Mars\"\n",
    "\n",
    "# Create browser object from Splinter library\n",
    "browser = Browser('chrome', **executable_path, headless=False)\n",
    "browser.visit(url2)\n",
    "\n",
    "# Click on the button that says FULL IMAGE to scrape the image\n",
    "browser.click_link_by_partial_text('FULL IMAGE')\n",
    "\n",
    "# Pause to let the browser load\n",
    "time.sleep(2)\n",
    "\n",
    "# Load html\n",
    "html = browser.html\n",
    "\n",
    "# Close the browser\n",
    "browser.quit()\n",
    "\n",
    "# Parse HTML with Beautiful Soup\n",
    "soup = BeautifulSoup(html, 'html.parser')\n",
    "link = soup.find(\"div\", class_ = \"fancybox-inner fancybox-skin fancybox-dark-skin fancybox-dark-skin-open\")"
   ]
  },
  {
   "cell_type": "code",
   "execution_count": null,
   "metadata": {},
   "outputs": [],
   "source": [
    "for result in link:\n",
    "    try:\n",
    "        # collect the partial URL\n",
    "        partial_url = result.get('src')\n",
    "        # if the partial URL exists, create the full URL\n",
    "        if(partial_url):\n",
    "            featured_image_url = \"https://www.jpl.nasa.gov\" + partial_url\n",
    "    except AttributeError as e:\n",
    "        print(e)\n",
    "\n",
    "featured_image_url"
   ]
  },
  {
   "cell_type": "code",
   "execution_count": null,
   "metadata": {},
   "outputs": [],
   "source": [
    "url3 = \"https://twitter.com/marswxreport?lang=en\"\n",
    "\n",
    "# Create browser object from Splinter library\n",
    "browser = Browser('chrome', **executable_path, headless=False)\n",
    "browser.visit(url3)\n",
    "\n",
    "# Pause to let the browser load\n",
    "time.sleep(2)\n",
    "\n",
    "# Load html\n",
    "html = browser.html\n",
    "\n",
    "# Close the browser\n",
    "browser.quit()\n",
    "\n",
    "# Parse HTML with Beautiful Soup\n",
    "soup = BeautifulSoup(html, 'html.parser')\n",
    "tweet_box = soup.find(\"div\", class_ = \"js-tweet-text-container\")"
   ]
  },
  {
   "cell_type": "code",
   "execution_count": null,
   "metadata": {},
   "outputs": [],
   "source": [
    "# Loop through the tweet_box's HTML elements\n",
    "for element in tweet_box:\n",
    "    try:\n",
    "        # store the tweet in a variable\n",
    "        tweet = element.text\n",
    "        # if the tweet exists, then assign it to eh variable \"mars_weather\"\n",
    "        if(tweet):\n",
    "            mars_weather = tweet\n",
    "    # Print to terminal if the attribute does not exist\n",
    "    except AttributeError as e:\n",
    "        print(e)\n",
    "\n",
    "# clean newlines and show in JN\n",
    "mars_weather = mars_weather.replace(\"\\n\", \" \")\n",
    "mars_weather"
   ]
  },
  {
   "cell_type": "code",
   "execution_count": null,
   "metadata": {},
   "outputs": [],
   "source": [
    "# Scrape data in a tabular form using pandas\n",
    "import pandas as pd\n",
    "url = \"https://space-facts.com/mars/\"\n",
    "tables = pd.read_html(url , encoding= \"utf-8\")\n",
    "mars_data_df = tables[0]"
   ]
  },
  {
   "cell_type": "code",
   "execution_count": null,
   "metadata": {},
   "outputs": [],
   "source": [
    "# Clean up dataframe columns and index\n",
    "mars_data_df.columns = ['Description','Value']\n",
    "mars_data_df.set_index('Description', inplace=True)\n",
    "\n",
    "# output to JN\n",
    "mars_data_df\n",
    "\n",
    "# save the dataframe to an html table\n",
    "html_table = mars_data_df.to_html()"
   ]
  },
  {
   "cell_type": "code",
   "execution_count": null,
   "metadata": {},
   "outputs": [],
   "source": [
    "# Initialize hemispehre list and chromedriver\n",
    "hemisphere_images_list = []\n",
    "url4 = \"https://astrogeology.usgs.gov/search/results?q=hemisphere+enhanced&k1=target&v1=Mars\"\n",
    "browser = Browser('chrome', **executable_path, headless=False)\n",
    "browser.visit(url4)"
   ]
  },
  {
   "cell_type": "code",
   "execution_count": null,
   "metadata": {},
   "outputs": [],
   "source": [
    "# Click on the hemisphere link to open the html of the high quality image\n",
    "browser.click_link_by_partial_text('Cerberus Hemisphere Enhanced')\n",
    "# Load the html, parse for the image, and store the image in the \"link\" variable\n",
    "html = browser.html\n",
    "soup = BeautifulSoup(html, 'html.parser')\n",
    "picture_url = soup.find('div', class_=\"downloads\")\n",
    "link = picture_url.a['href']\n",
    "# create \n",
    "link_dict = {\"title\": \"Cerberus Hemisphere\", \"img_url\": link}\n",
    "hemisphere_images_list.append(link_dict)\n",
    "# go back to previous page\n",
    "browser.back()"
   ]
  },
  {
   "cell_type": "code",
   "execution_count": null,
   "metadata": {},
   "outputs": [],
   "source": [
    "# Click on the hemisphere link to open the html of the high quality image\n",
    "browser.click_link_by_partial_text('Schiaparelli Hemisphere Enhanced')\n",
    "# Load the html, parse for the image, and store the image in the \"link\" variable\n",
    "html = browser.html\n",
    "soup = BeautifulSoup(html, 'html.parser')\n",
    "picture_url = soup.find('div', class_=\"downloads\")\n",
    "# create containers from the scraped information\n",
    "link = picture_url.a['href']\n",
    "link_dict = {\"title\": \"Schiaparelli Hemisphere\", \"img_url\": link}\n",
    "hemisphere_images_list.append(link_dict)\n",
    "# go back to previous page\n",
    "browser.back()\n"
   ]
  },
  {
   "cell_type": "code",
   "execution_count": null,
   "metadata": {},
   "outputs": [],
   "source": [
    "# Click on the hemisphere link to open the html of the high quality image\n",
    "browser.click_link_by_partial_text('Syrtis Major Hemisphere Enhanced')\n",
    "# Load the html, parse for the image, and store the image in the \"link\" variable\n",
    "html = browser.html\n",
    "soup = BeautifulSoup(html, 'html.parser')\n",
    "picture_url = soup.find('div', class_=\"downloads\")\n",
    "link = picture_url.a['href']\n",
    "# create containers from the scraped information\n",
    "link_dict = {\"title\": \"Syrtis Major Hemisphere\", \"img_url\": link}\n",
    "hemisphere_images_list.append(link_dict)\n",
    "# go back to previous page\n",
    "browser.back()\n"
   ]
  },
  {
   "cell_type": "code",
   "execution_count": null,
   "metadata": {},
   "outputs": [],
   "source": [
    "# Click on the hemisphere link to open the html of the high quality image\n",
    "browser.click_link_by_partial_text('Valles Marineris Hemisphere Enhanced')\n",
    "# Load the html, parse for the image, and store the image in the \"link\" variable\n",
    "html = browser.html\n",
    "soup = BeautifulSoup(html, 'html.parser')\n",
    "picture_url = soup.find('div', class_=\"downloads\")\n",
    "link = picture_url.a['href']\n",
    "# create containers from the scraped information\n",
    "link_dict = {\"title\": \"Valles Marineris Hemisphere\", \"img_url\": link}\n",
    "hemisphere_images_list.append(link_dict)\n",
    "# close the browser\n",
    "browser.quit()"
   ]
  },
  {
   "cell_type": "code",
   "execution_count": null,
   "metadata": {},
   "outputs": [],
   "source": [
    "# Output final list to JN window\n",
    "print(hemisphere_images_list)"
   ]
  }
 ],
 "metadata": {
  "kernelspec": {
   "display_name": "Python 3",
   "language": "python",
   "name": "python3"
  },
  "language_info": {
   "codemirror_mode": {
    "name": "ipython",
    "version": 3
   },
   "file_extension": ".py",
   "mimetype": "text/x-python",
   "name": "python",
   "nbconvert_exporter": "python",
   "pygments_lexer": "ipython3",
   "version": "3.7.2"
  }
 },
 "nbformat": 4,
 "nbformat_minor": 2
}
